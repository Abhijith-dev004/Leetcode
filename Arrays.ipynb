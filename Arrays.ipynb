{
 "cells": [
  {
   "cell_type": "markdown",
   "id": "69e275fc",
   "metadata": {},
   "source": [
    "# Datastructures and Algorithms"
   ]
  },
  {
   "cell_type": "markdown",
   "id": "9d1d20d8",
   "metadata": {},
   "source": [
    "## Contains Duplicate"
   ]
  },
  {
   "cell_type": "markdown",
   "id": "c9ad6821",
   "metadata": {},
   "source": [
    "Given an integer array nums, retrn ture if any value appears at least twice in the array, and return false if every element is distinct. We can use different types of methods for solving this question.\n",
    "\n",
    "Example1:     \n",
    "input: nums = [1,2,3,1]    \n",
    "output: true  \n",
    "\n",
    "Example2:  \n",
    "input: nums = [1,2,3,4]  \n",
    "output: false  \n",
    "\n",
    "Example3:  \n",
    "input: nums = [1,1,1,3,3,4,3,2,4,2]  \n",
    "output: true"
   ]
  },
  {
   "cell_type": "code",
   "execution_count": 21,
   "id": "dd74362b",
   "metadata": {},
   "outputs": [],
   "source": [
    "class Solutions:\n",
    "    def CDxxx(self, nums: list[int]) -> bool:\n",
    "        hashset = set()\n",
    "\n",
    "        for n in nums:\n",
    "            if n in hashset:\n",
    "                return True\n",
    "            hashset.add(n)\n",
    "        return False\n",
    "\n",
    "\n"
   ]
  },
  {
   "cell_type": "code",
   "execution_count": 22,
   "id": "b1767ee9",
   "metadata": {},
   "outputs": [],
   "source": [
    "x = [1,2,3,4,5,6,5]\n"
   ]
  },
  {
   "cell_type": "code",
   "execution_count": 23,
   "id": "c6f3f9e6",
   "metadata": {},
   "outputs": [
    {
     "data": {
      "text/plain": [
       "True"
      ]
     },
     "execution_count": 23,
     "metadata": {},
     "output_type": "execute_result"
    }
   ],
   "source": [
    "Solutions().CDxxx(x)"
   ]
  },
  {
   "cell_type": "markdown",
   "id": "e9dc6c04",
   "metadata": {},
   "source": [
    "* class Solutions:  \n",
    "Creates a class named Solutions.\n",
    "\n",
    "* def CD(self, nums: list[int]) -> bool:  \n",
    "Defines a method CD that takes a list of integers (nums) and returns True or False.\n",
    "\n",
    "* hashset = set()  \n",
    "Creates an empty set to store unique numbers.\n",
    "Sets automatically avoid duplicates.\n",
    "\n",
    "* for n in nums:  \n",
    "Starts a loop to check each number n in the list nums.\n",
    "\n",
    "* if n in hashset:  \n",
    "Checks if the number n is already in the set.\n",
    "If yes, it means a duplicate is found.\n",
    "\n",
    "* return True  \n",
    "Immediately returns True if a duplicate is found.\n",
    "\n",
    "* hashset.add(n)  \n",
    "If n is not in the set, adds it to the set.\n",
    "\n",
    "* return False  \n",
    "If no duplicates are found after checking all numbers, returns False.\n",
    "\n"
   ]
  },
  {
   "cell_type": "markdown",
   "id": "0db44206",
   "metadata": {},
   "source": [
    "## Valid Anagram\n",
    "\n",
    "Given two strings s and t, return true if the two strings are anagrams of each other, otherwise return false.  \n",
    "An anagram is a string that contains the exact same characters as another string, but the order of the characters can be different.  \n",
    "\n",
    "Example 1:  \n",
    "Input: s = \"racecar\", t = \"carrace\"  \n",
    "Output: true  \n",
    "\n",
    "Example 2:  \n",
    "Input: s = \"jar\", t = \"jam\"  \n",
    "Output: false  "
   ]
  },
  {
   "cell_type": "code",
   "execution_count": 24,
   "id": "5f73ccdd",
   "metadata": {},
   "outputs": [],
   "source": [
    "class Solution:\n",
    "    def isAnagram(self, s: str, t: str) -> bool:\n",
    "        if len(s) != len(t):\n",
    "            return False\n",
    "\n",
    "        countS, countT = {}, {}\n",
    "\n",
    "        for i in range(len(s)):\n",
    "            countS[s[i]] = 1 + countS.get(s[i], 0)\n",
    "            countT[t[i]] = 1 + countT.get(t[i], 0)\n",
    "        return countS == countT"
   ]
  },
  {
   "cell_type": "code",
   "execution_count": 25,
   "id": "54ed61fe",
   "metadata": {},
   "outputs": [
    {
     "name": "stdout",
     "output_type": "stream",
     "text": [
      "True\n"
     ]
    }
   ],
   "source": [
    "# True example\n",
    "\n",
    "sol = Solution()\n",
    "print(sol.isAnagram(\"cat\", \"act\"))"
   ]
  },
  {
   "cell_type": "code",
   "execution_count": 26,
   "id": "13aef3b6",
   "metadata": {},
   "outputs": [
    {
     "name": "stdout",
     "output_type": "stream",
     "text": [
      "False\n"
     ]
    }
   ],
   "source": [
    "# False example\n",
    "\n",
    "print(sol.isAnagram(\"hello\", \"world\"))"
   ]
  },
  {
   "cell_type": "markdown",
   "id": "ac153975",
   "metadata": {},
   "source": [
    "# An example for how it works\n",
    "\n",
    "s = \"act\" , t = \"cat\"  \n",
    "len(s)== len(t) == 3   \n",
    "index, i = [0,2]  \n",
    "\n",
    "countS = {\"a\":1, \"c\":1, \"t\":1}  \n",
    "countT={\"c\":1, \"a\": 1, \"t\":1}  \n",
    "\n",
    "range(len(s)) = range(3) = [0,1,2]  \n",
    "\n",
    "for loop 1st iteration : i = 0   \n",
    "s[i] =s[0] = \"a\"  \n",
    "countS[s[i]] = 1 + countS.get(s[i], 0)  \n",
    "--countS[a] = 1 + 0 =1  \n",
    "\n",
    "countT[t[i]] = 1 + countT.get(t[i], 0)  \n",
    "t[i] = t[0] = \"c\"  \n",
    "countT[c] = 1 +0 =1  \n",
    "\n",
    "XXXX  \n",
    "\n",
    "for loop 2nd iteration: i= 1  \n",
    "s[i] = s[1] = \"c\"  \n",
    "countS[s[i]] = 1 + countS.get(s[i], 0)  \n",
    "-- countS[c] = 1 + 0 = 1  \n",
    "\n",
    "countT[t[i]] = 1 + countT.get(t[i], 0)  \n",
    "countT[i] = t[1] = \"a\"  \n",
    "-- countT[a] = 1 + 0 = 1  \n",
    "\n",
    "XXXX      \n",
    "\n",
    "for loop 3rd iteration: i = 2  \n",
    "s[i] = s[2] = \"t\"  \n",
    "countS[s[i]] = 1 + countS.get(s[i], 0)  \n",
    "-- countS[t] = 1 + 0 = 1  \n",
    "\n",
    "countT[t[i]] = 1 + countT.get(t[i], 0)  \n",
    "countT[i] = t[2] = \"t\"  \n",
    "-- count[t] = 1 + 0 = 1  \n",
    "\n",
    "\n",
    "return countS == countT  "
   ]
  },
  {
   "cell_type": "markdown",
   "id": "bf179353",
   "metadata": {},
   "source": [
    "## Explanation of a function\n",
    "\n",
    "\n",
    "* .get() - The .get(key, default) function looks for a key in a dictionary.  \n",
    "If the key exists, it gives the value — if not, it returns the default value you gave."
   ]
  },
  {
   "cell_type": "markdown",
   "id": "aedefc12",
   "metadata": {},
   "source": [
    "## Explanation of the code line by line\n",
    "\n",
    "class Solution:  \n",
    "    # Creates a class named Solution.    \n",
    "    # (A class groups related functions/methods together.)  \n",
    "\n",
    "def isAnagram(self, s: str, t: str) -> bool:  \n",
    "    # Defines a method called isAnagram that:  \n",
    "    # Takes two strings s and t  \n",
    "    # Returns True or False (a boolean)  \n",
    "    \n",
    "if len(s) != len(t):  \n",
    "    return False  \n",
    "    # Checks if the lengths of s and t are different.  \n",
    "    # If yes, they can't be anagrams, so return False immediately.  \n",
    "\n",
    "countS, countT = {}, {}  \n",
    "    # Creates two empty dictionaries:  \n",
    "    # - countS will count letters in string s  \n",
    "    # - countT will count letters in string t\n",
    "\n",
    "for i in range(len(s)):  \n",
    "    countS[s[i]] = 1 + countS.get(s[i], 0)  \n",
    "    # Updates the count of the current letter s[i] in countS.  \n",
    "    # If the letter is not there, get() returns 0.  \n",
    "\n",
    "    countT[t[i]] = 1 + countT.get(t[i], 0)  \n",
    "    # Same as above, but for string t — it updates countT.\n",
    "\n",
    "return countS == countT  \n",
    "    # After the loop, compares both dictionaries:  \n",
    "    # - If the counts match for all letters, return True (they're anagrams)  \n",
    "    # - Otherwise, return False  "
   ]
  },
  {
   "cell_type": "markdown",
   "id": "a4696b44",
   "metadata": {},
   "source": [
    "## Two Sums\n",
    "\n",
    "Given an array of integers nums and an integer target, return the indices i and j such that nums[i] + nums[j] == target and i != j.  \n",
    "You may assume that every input has exactly one pair of indices i and j that satisfy the condition.  \n",
    "\n",
    "Return the answer with the smaller index first.  \n",
    "\n",
    "Example 1:  \n",
    "\n",
    "Input:   \n",
    "nums = [3,4,5,6], target = 7    \n",
    "Output: [0,1]  \n",
    "Explanation: nums[0] + nums[1] == 7, so we return [0, 1].  \n",
    "\n",
    "Example 2:  \n",
    "Input: nums = [4,5,6], target = 10  \n",
    "Output: [0,2]  \n",
    "\n",
    "Example 3:  \n",
    "Input: nums = [5,5], target = 10  \n",
    "Output: [0,1]  "
   ]
  },
  {
   "cell_type": "code",
   "execution_count": 27,
   "id": "4b600a30",
   "metadata": {},
   "outputs": [],
   "source": [
    "class Solutions:\n",
    "    def twoSum(self, num: list[int], target: int) -> list[int]:\n",
    "        Map = {} # value : index\n",
    "\n",
    "        for i, n  in enumerate(num):\n",
    "            diff = target - n\n",
    "            if diff in Map:\n",
    "                return[Map[diff], i]\n",
    "            Map[n] = i\n",
    "           \n"
   ]
  },
  {
   "cell_type": "code",
   "execution_count": 28,
   "id": "09aee6cc",
   "metadata": {},
   "outputs": [
    {
     "name": "stdout",
     "output_type": "stream",
     "text": [
      "[0, 1]\n"
     ]
    }
   ],
   "source": [
    "# Step 1: Create an object of the class\n",
    "sol = Solutions()\n",
    "\n",
    "# Step 2: Call the twoSum method with inputs\n",
    "result = sol.twoSum([2, 7, 11, 15], 9)\n",
    "\n",
    "# Step 3: Print the result\n",
    "print(result)"
   ]
  },
  {
   "cell_type": "markdown",
   "id": "74519c66",
   "metadata": {},
   "source": [
    "## Explanation of the code lin by line\n",
    "\n",
    "* class Solutions:  \n",
    "Creates a class named Solutions.  \n",
    "\n",
    "* def twoSum(self, num: list[int], target: int) -> list[int]:  \n",
    "Defines a method named twoSum that:  \n",
    "Takes a list of numbers num  \n",
    "Takes a target number target  \n",
    "Returns a list of two indices where the numbers add up to the target  \n",
    "\n",
    "* Map = {}  \n",
    "Creates an empty dictionary Map to store:  \n",
    "Key → number from the list  \n",
    "Value → its index  \n",
    "\n",
    "* for i, n in enumerate(num):  \n",
    "Loops through each number n in the list along with its index i.  \n",
    "\n",
    "* diff = target - n  \n",
    "Calculates how much more is needed to reach the target using n.  \n",
    "\n",
    "* if diff in Map:  \n",
    "Checks if the diff value is already in the dictionary.  \n",
    "\n",
    "* return [Map[diff], i]  \n",
    "If found, returns the index of diff and the current index i.  \n",
    "\n",
    "* Map[n] = i  \n",
    "If diff is not found, store the current number n and its index.  \n",
    "\n"
   ]
  },
  {
   "cell_type": "markdown",
   "id": "a327a898",
   "metadata": {},
   "source": [
    "## Group Anagrams"
   ]
  },
  {
   "cell_type": "markdown",
   "id": "ed3ef8a5",
   "metadata": {},
   "source": [
    "Given an array of strings strs, group all anagrams together into sublists. You may return the output in any order.  \n",
    "An anagram is a string that contains the exact same characters as another string, but the order of the characters can be different.  \n",
    "\n",
    "Example 1:  \n",
    "Input: strs = [\"act\",\"pots\",\"tops\",\"cat\",\"stop\",\"hat\"]  \n",
    "Output: [[\"hat\"],[\"act\", \"cat\"],[\"stop\", \"pots\", \"tops\"]]  \n",
    "\n",
    "Example 2:  \n",
    "Input: strs = [\"x\"]  \n",
    "Output: [[\"x\"]]  \n",
    "\n",
    "Example 3:  \n",
    "Input: strs = [\"\"]  \n",
    "Output: [[\"\"]]  "
   ]
  },
  {
   "cell_type": "code",
   "execution_count": 29,
   "id": "ea6e7c6d",
   "metadata": {},
   "outputs": [],
   "source": [
    "from collections import defaultdict\n",
    "\n",
    "class Solution:\n",
    "\n",
    "    def groupAnagrams(self, strs: list[str]) -> list[list[str]]:\n",
    "        res = defaultdict(list) # mapping charcount to list of anagrams\n",
    "\n",
    "        for s in strs:\n",
    "            count = [0] * 26 # a......z\n",
    "\n",
    "            for c in s:\n",
    "                count[ord(c) - ord('a')] += 1\n",
    "            res[tuple(count)].append(s)\n",
    "\n",
    "        return list(res.values())"
   ]
  },
  {
   "cell_type": "code",
   "execution_count": 30,
   "id": "46cb4709",
   "metadata": {},
   "outputs": [
    {
     "name": "stdout",
     "output_type": "stream",
     "text": [
      "[['eat', 'tea', 'ate'], ['tan', 'nat'], ['bat']]\n"
     ]
    }
   ],
   "source": [
    "# Input\n",
    "input_list = [\"eat\", \"tea\", \"tan\", \"ate\", \"nat\", \"bat\"]\n",
    "\n",
    "# Create object and call the method\n",
    "s = Solution()\n",
    "result = s.groupAnagrams(input_list)\n",
    "print(result)"
   ]
  },
  {
   "cell_type": "markdown",
   "id": "f55e4e93",
   "metadata": {},
   "source": [
    "## Explanation of the code:\n",
    "\n",
    "* class Solution:  \n",
    "def groupAnagrams(self, strs: list[str]) -> list[list[str]]:  \n",
    "This defines a class Solution and a method groupAnagrams which takes a list of strings (strs) and returns a list of lists — each inner list contains words that are anagrams of each other.  \n",
    "\n",
    "* res = defaultdict(list)  \n",
    "We use a dictionary called res to store groups of anagrams. defaultdict(list) means if a key is not found, it automatically creates an empty list for that key.  \n",
    "\n",
    "\n",
    "* for s in strs:  \n",
    "Loop through each word in the input list strs.   \n",
    "\n",
    "\n",
    "* count = [0] * 26  \n",
    "We create a list of 26 zeros, one for each letter in the alphabet (a–z). This will help us count how many times each letter appears in the word.  \n",
    "\n",
    "\n",
    "* for c in s:  \n",
    "count[ord(c) - ord('a')] += 1  \n",
    "Loop through each character c in the word s.  \n",
    "ord(c) gives the ASCII value of the character.  \n",
    "ord('a') is subtracted to get the index between 0 and 25.  \n",
    "So count tracks the frequency of each letter.  \n",
    "\n",
    "* res[tuple(count)].append(s)  \n",
    "Convert the count list to a tuple so it can be used as a dictionary key.  \n",
    "This key will be the same for all anagrams since they have the same letter counts.  \n",
    "So they go into the same list in res.  \n",
    "\n",
    "* return res.values()  \n",
    "We return all the grouped lists (values of the dictionary).  "
   ]
  },
  {
   "cell_type": "markdown",
   "id": "d5e0d1b8",
   "metadata": {},
   "source": [
    "## Example Explanation\n",
    "\n",
    "count=[0,0,0,....,26th-0] (index : 0 ->25)  \n",
    "a = 50  \n",
    "h= 58  \n",
    "count[58]  \n",
    "h-a = 58 - 50 = 8 = lies between 0 and 25  \n",
    "a = a =50   \n",
    "after ord(a)- ord(a)  \n",
    "a-a = 0  \n",
    "..  \n",
    "\n",
    "z = 50 + 25 = 75   \n",
    "ord(z)- ord(a) = 75- 50 = 25  \n",
    "\n",
    "any alphabet between a and z lies between 0 and 25 in count  \n",
    "\n",
    "res ={(1,0,1,....,1,...0):[\"act\",\"cat\",\"tac\"]}  "
   ]
  },
  {
   "cell_type": "markdown",
   "id": "9ae77be9",
   "metadata": {},
   "source": [
    "## Explanation of particular new functions:\n",
    "\n",
    "* ord() is a built-in Python function that:  \n",
    "Converts a character into its Unicode number (also called ASCII code for English letters).  \n",
    "We use ord() in this code to convert each letter into a number so we can find its correct position in the count list (which tracks how many times each letter appears).  \n",
    "\n",
    "* defaultdict() - It is a special kind of dictionary in Python from the collections module that automatically creates a default value for any key that doesn’t exist yet. In this code, defaultdict(list) is used to group words that are anagrams. It helps by automatically creating an empty list [] whenever a new group (key) is needed. "
   ]
  },
  {
   "cell_type": "markdown",
   "id": "3c321f1e",
   "metadata": {},
   "source": [
    "## Top K Frequent Elements"
   ]
  },
  {
   "cell_type": "markdown",
   "id": "6ac99a16",
   "metadata": {},
   "source": [
    "Given an integer array nums and an integer k, return the k most frequent elements within the array.  \n",
    "The test cases are generated such that the answer is always unique.  \n",
    "You may return the output in any order.  \n",
    "\n",
    "Example 1:  \n",
    "Input: nums = [1,2,2,3,3,3], k = 2  \n",
    "Output: [2,3]  \n",
    "\n",
    "Example 2:   \n",
    "Input: nums = [7,7], k = 1  \n",
    "Output: [7]  "
   ]
  },
  {
   "cell_type": "code",
   "execution_count": 31,
   "id": "b6aaeb3e",
   "metadata": {},
   "outputs": [],
   "source": [
    "class Solution:\n",
    "    def topKFrequent(self, nums: list[int], k: int) -> list[int]:\n",
    "        count = {}\n",
    "        freq = [[] for i in range(len(nums) + 1)]\n",
    "\n",
    "        for num in nums:\n",
    "            count[num] = 1 + count.get(num, 0)\n",
    "        for num, cnt in count.items():\n",
    "            freq[cnt].append(num)\n",
    "        \n",
    "        res = []\n",
    "        for i in range(len(freq) - 1, 0, -1):\n",
    "            \n",
    "            for num in freq[i]:\n",
    "                res.append(num)\n",
    "                if len(res) == k:\n",
    "                    return res"
   ]
  },
  {
   "cell_type": "code",
   "execution_count": 32,
   "id": "2e9385c0",
   "metadata": {},
   "outputs": [
    {
     "name": "stdout",
     "output_type": "stream",
     "text": [
      "[1]\n"
     ]
    }
   ],
   "source": [
    "k = 1\n",
    "num = [1,1,1,2,2,3]\n",
    "s = Solution()\n",
    "result = s.topKFrequent(num,k)\n",
    "print(result)"
   ]
  },
  {
   "cell_type": "markdown",
   "id": "abf62981",
   "metadata": {},
   "source": [
    "# Explanation with an example\n",
    "\n",
    "\n",
    "freq = [[] for i in range(len(nums) + 1)]\n",
    "nums = [1,2,2,3,3,3,3]\n",
    "len(nums)= 6 , len(nums) +1  = 7\n",
    "range(len(nums)+1) = range(7)= 0,1,2,3,4,5,6\n",
    "\n",
    "for i in range(len(nums)+1) = for i in [0,1,2,3,4,5,6,7] \n",
    "\n",
    "freq = [[] for i in range(len(nums) + 1)]\n",
    "\n",
    "for each index in the range create an empty list and store it in the list 'freq'\n",
    "\n",
    "freq = [[],[],[],[],[],[],[]]  \n",
    "\n",
    "-----------\n",
    "\n",
    " count[num] = 1 + count.get(num, 0)\n",
    "\n",
    " eg : count =  {}\n",
    " nums = [1,2,2,3,3,3,3]\n",
    " for num in nums :  \n",
    "    num = 1  \n",
    "    count[num] = 1 + count.get(num, 0)  \n",
    "    -> count[1] = 1+ count.get(1,0)  \n",
    "\n",
    "    /...  \n",
    "    \n",
    "    count = {1:1,2:2,3:4}  \n"
   ]
  },
  {
   "cell_type": "markdown",
   "id": "a49918db",
   "metadata": {},
   "source": [
    "## Explanation of the code line by line\n",
    "\n",
    "* class Solution:  \n",
    "Defines a class named Solution.  \n",
    "\n",
    "* def topKFrequent(self, nums: list[int], k: int) -> list[int]:  \n",
    "Defines a method that returns the k most frequent elements in the list nums.  \n",
    "\n",
    "* count = {}  \n",
    "Creates an empty dictionary to store frequency of each number.  \n",
    "\n",
    "* freq = [[] for i in range(len(nums) + 1)]  \n",
    "Creates a list of empty lists (freq) with size len(nums) + 1.  \n",
    "freq[i] will contain numbers that appear exactly i times.  \n",
    "\n",
    "* for num in nums:  \n",
    "count[num] = 1 + count.get(num, 0)  \n",
    "Loops through nums and counts how often each number appears.  \n",
    "Uses .get() to handle numbers not already in the dictionary.  \n",
    "\n",
    "* for num, cnt in count.items():  \n",
    "freq[cnt].append(num)  \n",
    "For each number and its count, places it into the correct freq bucket.  \n",
    "\n",
    "* res = []  \n",
    "Initializes an empty list to store the final result.  \n",
    "\n",
    "* for i in range(len(freq) - 1, 0, -1):  \n",
    "Loops backward from highest frequency to lowest.  \n",
    "\n",
    "* for num in freq[i]:  \n",
    "res.append(num)  \n",
    "if len(res) == k:  \n",
    "return res  \n",
    "Adds numbers to the result list.  \n",
    "Returns once k most frequent elements are collected.  "
   ]
  },
  {
   "cell_type": "markdown",
   "id": "e088a4d8",
   "metadata": {},
   "source": [
    "## Encode and Decode String\n",
    "\n",
    "Design an algorithm to encode a list of strings to a single string. The encoded string is then decoded back to the original list of strings.  \n",
    "Please implement encode and decode  \n",
    "\n",
    "Example 1:  \n",
    "Input: [\"neet\",\"code\",\"love\",\"you\"]  \n",
    "Output:[\"neet\",\"code\",\"love\",\"you\"]  \n",
    "\n",
    "Example 2:  \n",
    "Input: [\"we\",\"say\",\":\",\"yes\"]  \n",
    "Output: [\"we\",\"say\",\":\",\"yes\"]  "
   ]
  },
  {
   "cell_type": "code",
   "execution_count": 33,
   "id": "92890380",
   "metadata": {},
   "outputs": [],
   "source": [
    "class Solution:\n",
    "    def encode(self, strs :list[str]) -> str:\n",
    "\n",
    "        res = \"\"\n",
    "        for s in strs:\n",
    "            res += str(len(s)) + \"#\" + s\n",
    "        return res\n",
    "        \n",
    "    def decode(self, s: str) -> list[str]:\n",
    "\n",
    "        res = []\n",
    "        i= 0\n",
    "\n",
    "        while i < len(s):\n",
    "            j = i\n",
    "            # increase j till s[j] = #\n",
    "            while s[j] != \"#\":\n",
    "                j += 1\n",
    "            length = int(s[i:j])\n",
    "            i = j+1\n",
    "            j = i + length\n",
    "            res.append(s[i:j])\n",
    "            i = j\n",
    "\n",
    "        return res        \n",
    "\n",
    "     # \"4#neet4#code\"   \n"
   ]
  },
  {
   "cell_type": "markdown",
   "id": "b4502eae",
   "metadata": {},
   "source": [
    "list[str] - [\"neet\", \"code\"]\n",
    "\n",
    "encode -\n",
    "res = \"\"\n",
    "for s in str:\n",
    "res += str(len(s)) + \"#\" + s\n",
    "res+= str(len(neet)) + \"#\" + \"neet\"\n",
    "-----= \"4#neet\"\n",
    "res+= str(len(code)) + \"#\" + \"code\"\n",
    "-----= \"4#code\"\n",
    "4#neet4#code\n",
    "\n",
    "XXXXXX\n",
    "\n",
    "decode -\n",
    "res = []\n",
    "i = 0  \n",
    "\n",
    "while i < len(s)\n",
    "----i < len(4#neet4#code)\n",
    "j = i\n",
    "\n",
    "while s[j] != \"#\"\n",
    "j += i\n",
    "------ if j is not in the index of # add 1\n",
    "length = int(s[i:j])\n",
    "------length = int(s[0:1]) -----> s[0] = 4 in 4#neet4#code\n",
    "i = j + 1 -----> i  = j +1 = 1 +1 = 2\n",
    "j = i + length = 2 +4 =6\n",
    "so here we will get i = 2 = n and j = 6 = t which is n in 4#neet4#code\n",
    "res.append(s[i:j])\n",
    "s([2:6]) = append neet\n",
    "similarly\n",
    "\n",
    "XXXXXXX\n",
    "\n",
    "now i = 2 and j = 6\n",
    "while i < len(s)\n",
    "----i < len(4#neet4#code)\n",
    "j = i\n",
    "\n",
    "\n",
    "\n",
    "\n",
    "\n",
    "\n",
    "\n"
   ]
  },
  {
   "cell_type": "markdown",
   "id": "e6d3d238",
   "metadata": {},
   "source": [
    "## Product of array except itself  "
   ]
  },
  {
   "cell_type": "markdown",
   "id": "871f6694",
   "metadata": {},
   "source": [
    "Given an integer array nums, return an array output where output[i] is the product of all the elements of nums except nums[i].  \n",
    "Each product is guaranteed to fit in a 32-bit integer.  \n",
    "\n",
    "Follow-up: Could you solve it in O(n) time without using the division operation?  \n",
    "\n",
    "Example 1:  \n",
    "Input: nums = [1,2,4,6]  \n",
    "Output: [48,24,12,8]  \n",
    "\n",
    "Example 2:  \n",
    "Input: nums = [-1,0,1,2,3]  \n",
    "Output: [0,-6,0,0,0]  "
   ]
  },
  {
   "cell_type": "code",
   "execution_count": 34,
   "id": "d50021f4",
   "metadata": {},
   "outputs": [],
   "source": [
    "class Solution:\n",
    "    def ProductArray(self, num: list[int]) -> list[int]:\n",
    "\n",
    "        res = [1] * (len(num))\n",
    "\n",
    "        prefix = 1\n",
    "        for i in range(len(num)):\n",
    "            res[i] = prefix\n",
    "            prefix *= num[i]\n",
    "\n",
    "        postfix = 1\n",
    "        for i in range(len(num)-1, -1, -1):\n",
    "            res[i] *= postfix\n",
    "            postfix *= num[i]\n",
    "        return res        \n",
    "\n"
   ]
  },
  {
   "cell_type": "markdown",
   "id": "1949fa8e",
   "metadata": {},
   "source": [
    "* class Solution:  \n",
    "Defines a class named Solution. It's a way to group your code.  \n",
    "\n",
    "* def ProductArray(self, num: list[int]) -> list[int]:  \n",
    "This defines a method named ProductArray that:  \n",
    "Takes a list of integers num as input  \n",
    "Returns a list of integers as output  \n",
    "\n",
    "* res = [1] * (len(num))  \n",
    "Creates a result list res with the same length as num, filled with 1s  \n",
    "Example: if num = [1, 2, 3], then res = [1, 1, 1]  \n",
    "\n",
    "* prefix = 1  \n",
    "A variable to keep the product of numbers before the current index.  \n",
    "\n",
    "* for i in range(len(num)):  \n",
    "Loop from left to right over all indices (0 to n-1)  \n",
    "\n",
    "* res[i] = prefix → store the product of all numbers before index i  \n",
    "prefix *= num[i] → update prefix by multiplying with the current number  \n",
    "\n",
    "## After this loop:  \n",
    "\n",
    "* res[i] = product of all elements before i  \n",
    "postfix = 1  \n",
    "Another variable to keep the product of numbers after the current index.  \n",
    "\n",
    "\n",
    "* for i in range(len(num)-1, -1, -1):  \n",
    "Loop from right to left (last index to 0)  \n",
    "\n",
    "\n",
    "* res[i] *= postfix  \n",
    "* postfix *= num[i]  \n",
    "Multiply res[i] with postfix → adds the product of elements after index i   \n",
    "Update postfix by multiplying it with the current number  \n",
    "\n",
    "## After this loop:  \n",
    "* res[i] = (product before i) × (product after i)  \n",
    "\n",
    "* return res   \n",
    "Finally, return the result list.  "
   ]
  },
  {
   "cell_type": "markdown",
   "id": "7f1f0195",
   "metadata": {},
   "source": [
    "## Valid Sudoku\n",
    "\n",
    "You are given a 9 x 9 Sudoku board board. A Sudoku board is valid if the following rules are followed:  \n",
    "\n",
    "Each row must contain the digits 1-9 without duplicates.  \n",
    "Each column must contain the digits 1-9 without duplicates.  \n",
    "Each of the nine 3 x 3 sub-boxes of the grid must contain the digits 1-9 without duplicates.  \n",
    "Return true if the Sudoku board is valid, otherwise return false  \n",
    "\n",
    "Note: A board does not need to be full or be solvable to be valid.  \n",
    "\n",
    "Example 1:  \n",
    "Input: board =   \n",
    "[[\"1\",\"2\",\".\",\".\",\"3\",\".\",\".\",\".\",\".\"],  \n",
    " [\"4\",\".\",\".\",\"5\",\".\",\".\",\".\",\".\",\".\"],  \n",
    " [\".\",\"9\",\"8\",\".\",\".\",\".\",\".\",\".\",\"3\"],  \n",
    " [\"5\",\".\",\".\",\".\",\"6\",\".\",\".\",\".\",\"4\"],  \n",
    " [\".\",\".\",\".\",\"8\",\".\",\"3\",\".\",\".\",\"5\"],  \n",
    " [\"7\",\".\",\".\",\".\",\"2\",\".\",\".\",\".\",\"6\"],  \n",
    " [\".\",\".\",\".\",\".\",\".\",\".\",\"2\",\".\",\".\"],  \n",
    " [\".\",\".\",\".\",\"4\",\"1\",\"9\",\".\",\".\",\"8\"],  \n",
    " [\".\",\".\",\".\",\".\",\"8\",\".\",\".\",\"7\",\"9\"]]  \n",
    "Output: true  \n",
    "\n",
    "Example 2:  \n",
    "Input: board =   \n",
    "[[\"1\",\"2\",\".\",\".\",\"3\",\".\",\".\",\".\",\".\"],  \n",
    " [\"4\",\".\",\".\",\"5\",\".\",\".\",\".\",\".\",\".\"],  \n",
    " [\".\",\"9\",\"1\",\".\",\".\",\".\",\".\",\".\",\"3\"],  \n",
    " [\"5\",\".\",\".\",\".\",\"6\",\".\",\".\",\".\",\"4\"],  \n",
    " [\".\",\".\",\".\",\"8\",\".\",\"3\",\".\",\".\",\"5\"],  \n",
    " [\"7\",\".\",\".\",\".\",\"2\",\".\",\".\",\".\",\"6\"],  \n",
    " [\".\",\".\",\".\",\".\",\".\",\".\",\"2\",\".\",\".\"],  \n",
    " [\".\",\".\",\".\",\"4\",\"1\",\"9\",\".\",\".\",\"8\"],  \n",
    " [\".\",\".\",\".\",\".\",\"8\",\".\",\".\",\"7\",\"9\"]]  \n",
    "Output: false  \n",
    "\n",
    "Explanation: There are two 1's in the top-left 3x3 sub-box.  "
   ]
  },
  {
   "cell_type": "code",
   "execution_count": 35,
   "id": "1bd7935d",
   "metadata": {},
   "outputs": [],
   "source": [
    "from collections import defaultdict\n",
    "\n",
    "class Solutions:\n",
    "    def Sudoku(self, board: list[list[str]]) -> bool:\n",
    "        \n",
    "        row = defaultdict(set)\n",
    "        col = defaultdict(set)\n",
    "        square = defaultdict(set) # key (r/3, c/3)\n",
    "\n",
    "        for r in range(9):\n",
    "            for c in range(9):\n",
    "                if board[r][c] == \".\":\n",
    "                    continue\n",
    "                if ( board[r][c] in row[r]\n",
    "                    or board[r][c] in col[c]\n",
    "                    or board[r][c] in square[(r // 3, c // 3)]):\n",
    "                    return False\n",
    "                col[c].add(board[r][c])\n",
    "                row[r].add(board[r][c])\n",
    "                square[(r // 3, c // 3)].add(board[r][c])\n",
    "\n",
    "        return True\n",
    "\n"
   ]
  },
  {
   "cell_type": "code",
   "execution_count": 36,
   "id": "cab8340b",
   "metadata": {},
   "outputs": [],
   "source": [
    "board =   [\n",
    "    [\"1\",\"2\",\".\",\".\",\"3\",\".\",\".\",\".\",\".\"],  \n",
    "    [\"4\",\".\",\".\",\"5\",\".\",\".\",\".\",\".\",\".\"],  \n",
    "    [\".\",\"9\",\"1\",\".\",\".\",\".\",\".\",\".\",\"3\"],  \n",
    "    [\"5\",\".\",\".\",\".\",\"6\",\".\",\".\",\".\",\"4\"],  \n",
    "    [\".\",\".\",\".\",\"8\",\".\",\"3\",\".\",\".\",\"5\"],  \n",
    "    [\"7\",\".\",\".\",\".\",\"2\",\".\",\".\",\".\",\"6\"],  \n",
    "    [\".\",\".\",\".\",\".\",\".\",\".\",\"2\",\".\",\".\"],  \n",
    "    [\".\",\".\",\".\",\"4\",\"1\",\"9\",\".\",\".\",\"8\"],  \n",
    "    [\".\",\".\",\".\",\".\",\"8\",\".\",\".\",\"7\",\"9\"],\n",
    " ]  "
   ]
  },
  {
   "cell_type": "code",
   "execution_count": 37,
   "id": "10756d0f",
   "metadata": {},
   "outputs": [
    {
     "name": "stdout",
     "output_type": "stream",
     "text": [
      "False\n"
     ]
    }
   ],
   "source": [
    "s = Solutions()\n",
    "print(s.Sudoku(board))"
   ]
  },
  {
   "cell_type": "markdown",
   "id": "3c7f295d",
   "metadata": {},
   "source": [
    "* from collections import defaultdict  \n",
    "🔹 This imports defaultdict, which is like a dictionary but automatically creates default values (in this case, empty sets).  \n",
    "  \n",
    "\n",
    "* class Solutions:  \n",
    "🔹 Defines a class named Solutions.  \n",
    "\n",
    "\n",
    "* def Sudoku(self, board: list[list[str]]) -> bool:   \n",
    "🔹 Defines a function Sudoku that takes a 9×9 Sudoku board as input and returns True or False depending on whether it's valid.  \n",
    "\n",
    "\n",
    "* row = defaultdict(set)  \n",
    "col = defaultdict(set)  \n",
    "square = defaultdict(set)  # key (r//3, c//3)  \n",
    "🔹 Creates 3 dictionaries to track numbers already seen:  \n",
    "\n",
    "* row[r] → numbers in row r  \n",
    "col[c] → numbers in column c  \n",
    "square[(r//3, c//3)] → numbers in 3×3 box that cell (r, c) belongs to  \n",
    "set is used to store unique numbers only (helps check for duplicates).  \n",
    "\n",
    "\n",
    "* for r in range(9):  \n",
    "for c in range(9):  \n",
    "🔹 Loops over all 9 rows (r) and all 9 columns (c) of the board (i.e., every cell).  \n",
    "\n",
    "\n",
    "* if board[r][c] == \".\":  \n",
    " continue    \n",
    "🔹 If the cell is empty (\".\"), skip it and move to the next one.  \n",
    "\n",
    "\n",
    "* if (board[r][c] in row[r]  \n",
    "    or board[r][c] in col[c]   \n",
    "    or board[r][c] in square[(r // 3, c // 3)]):  \n",
    "                    return False  \n",
    "🔹 If the number already exists in the same row, column, or 3×3 square, it's invalid → return False.  \n",
    "\n",
    "\n",
    "* col[c].add(board[r][c])  \n",
    "row[r].add(board[r][c])  \n",
    "square[(r // 3, c // 3)].add(board[r][c])  \n",
    "🔹 Otherwise, add the number to the tracking sets for:  \n",
    "That column  \n",
    "That row  \n",
    "That 3×3 square  \n",
    "\n",
    "* return True  \n",
    "🔹 If all cells are valid and no duplicates are found, return True.  "
   ]
  },
  {
   "cell_type": "markdown",
   "id": "0e785241",
   "metadata": {},
   "source": [
    "## Longest Consequtive Sequence"
   ]
  },
  {
   "cell_type": "markdown",
   "id": "85119f8a",
   "metadata": {},
   "source": [
    "Given an array of integers nums, return the length of the longest consecutive sequence of elements that can be formed.  \n",
    "\n",
    "A consecutive sequence is a sequence of elements in which each element is exactly 1 greater than the previous element. The elements do not have to be consecutive in the original array.  \n",
    "\n",
    "You must write an algorithm that runs in O(n) time.  \n",
    "\n",
    "Example 1:  \n",
    "Input: nums = [2,20,4,10,3,4,5]  \n",
    "Output: 4  \n",
    "Explanation: The longest consecutive sequence is [2, 3, 4, 5].  \n",
    "\n",
    "Example 2:  \n",
    "Input: nums = [0,3,2,5,4,6,1,1]  \n",
    "Output: 7  "
   ]
  },
  {
   "cell_type": "code",
   "execution_count": 38,
   "id": "0624eff6",
   "metadata": {},
   "outputs": [],
   "source": [
    "class Solutions:\n",
    "    def longestConsequtive(self, nums: list[int]) -> int:\n",
    "        numSet = set(nums)\n",
    "        longest = 0\n",
    "\n",
    "        for n in nums:\n",
    "            # check if its the start of the sequence\n",
    "            if (n-1) not in numSet:\n",
    "                length = 0\n",
    "                while (n + length) in numSet:\n",
    "                    length += 1\n",
    "                \n",
    "                longest = max(length, longest)\n",
    "        return longest\n",
    "\n"
   ]
  },
  {
   "cell_type": "code",
   "execution_count": 39,
   "id": "37549233",
   "metadata": {},
   "outputs": [],
   "source": [
    "nums = [0,3,2,5,4,6,1,1] \n",
    "s = Solutions()"
   ]
  },
  {
   "cell_type": "code",
   "execution_count": 40,
   "id": "e942e31a",
   "metadata": {},
   "outputs": [
    {
     "name": "stdout",
     "output_type": "stream",
     "text": [
      "7\n"
     ]
    }
   ],
   "source": [
    "r = s.longestConsequtive(nums)\n",
    "print(r)"
   ]
  },
  {
   "cell_type": "markdown",
   "id": "72736c82",
   "metadata": {},
   "source": [
    "## Explanation of the code\n",
    "\n",
    "* class Solutions:  \n",
    "Defines a class named Solutions.  \n",
    "\n",
    "* def longestConsequtive(self, nums: list[int]) -> int:  \n",
    "Defines a function that takes a list of integers (nums) and returns the length of the longest consecutive number sequence.  \n",
    "\n",
    "* numSet = set(nums)   \n",
    "Converts the list to a set to:  \n",
    "remove duplicates  \n",
    "enable fast lookup (O(1) time)  \n",
    "\n",
    "* longest = 0  \n",
    "Initializes a variable to keep track of the longest sequence length found so far.  \n",
    "\n",
    "* for n in nums:  \n",
    "Starts a loop to go through each number in the list.  \n",
    "\n",
    "* if (n - 1) not in numSet:  \n",
    "Checks if the number is the start of a sequence.  \n",
    "If n - 1 is not in the set, then n could be the beginning.  \n",
    "\n",
    "* length = 0  \n",
    "Start a counter to keep track of the current sequence length.  \n",
    "\n",
    "* while (n + length) in numSet:  \n",
    "    length += 1  \n",
    "Counts how many numbers are consecutively present starting from n.  \n",
    "  \n",
    "* longest = max(length, longest)  \n",
    "Updates the result if the current sequence is longer than the previous longest.  \n",
    "\n",
    "* return longest  \n",
    "Returns the length of the longest consecutive sequence found.  \n",
    "\n"
   ]
  },
  {
   "cell_type": "markdown",
   "id": "1d51b3f2",
   "metadata": {},
   "source": [
    "## New Function\n",
    "\n",
    "max() - The max() function is used to find the biggest (maximum) value. max(a, b) gives you the greater of a and b."
   ]
  }
 ],
 "metadata": {
  "kernelspec": {
   "display_name": "Python 3",
   "language": "python",
   "name": "python3"
  },
  "language_info": {
   "codemirror_mode": {
    "name": "ipython",
    "version": 3
   },
   "file_extension": ".py",
   "mimetype": "text/x-python",
   "name": "python",
   "nbconvert_exporter": "python",
   "pygments_lexer": "ipython3",
   "version": "3.13.3"
  }
 },
 "nbformat": 4,
 "nbformat_minor": 5
}
