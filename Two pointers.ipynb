{
 "cells": [
  {
   "cell_type": "markdown",
   "id": "029c1c43",
   "metadata": {},
   "source": [
    "# Two Pointers"
   ]
  },
  {
   "cell_type": "markdown",
   "id": "8a665050",
   "metadata": {},
   "source": [
    "## Valid Palindrome"
   ]
  },
  {
   "cell_type": "markdown",
   "id": "fa6a7198",
   "metadata": {},
   "source": [
    "Given a string s, return true if it is a palindrome, otherwise return false.  \n",
    "A palindrome is a string that reads the same forward and backward. It is also case-insensitive and ignores all non-alphanumeric characters.  \n",
    "\n",
    "Note: Alphanumeric characters consist of letters (A-Z, a-z) and numbers (0-9).    \n",
    "\n",
    "Example 1:  \n",
    "Input: s = \"Was it a car or a cat I saw?\"  \n",
    "Output: true  \n",
    "Explanation: After considering only alphanumerical characters we have \"wasitacaroracatisaw\", which is a palindrome.  \n",
    "\n",
    "Example 2:  \n",
    "Input: s = \"tab a cat\"  \n",
    "Output: false  \n",
    "Explanation: \"tabacat\" is not a palindrome.  "
   ]
  },
  {
   "cell_type": "code",
   "execution_count": null,
   "id": "e196f14d",
   "metadata": {},
   "outputs": [],
   "source": [
    "class Solution:\n",
    "    def isPalindromeee(self, s: str) -> bool:\n",
    "        l, r = 0, len(s) - 1\n",
    "\n",
    "        while l < r:\n",
    "            while l<r and not self.alphaNum(s[l]):\n",
    "                l += 1\n",
    "            while r > l and not self.alphaNum(s[r]):\n",
    "                r -= 1\n",
    "            if s[l].lower() != s[r].lower():\n",
    "                return False\n",
    "            l,r = l + 1, r - 1\n",
    "\n",
    "        return True\n",
    "    \n",
    "    def alphaNum(self, c):\n",
    "        return (ord(\"A\") <= ord(c) <= ord(\"Z\") or\n",
    "                ord(\"a\") <= ord(c) <= ord(\"z\")or\n",
    "                ord(\"0\") <= ord(c) <= ord(\"9\"))"
   ]
  },
  {
   "cell_type": "code",
   "execution_count": 8,
   "id": "fd8998ec",
   "metadata": {},
   "outputs": [
    {
     "name": "stdout",
     "output_type": "stream",
     "text": [
      "Is palindrome? True\n"
     ]
    }
   ],
   "source": [
    "# Example usage\n",
    "s = Solution()\n",
    "\n",
    "# Test input\n",
    "input_string = \"Was it a car or a cat I saw?\"\n",
    "print(\"Is palindrome?\", s.isPalindrome(input_string)) "
   ]
  },
  {
   "cell_type": "code",
   "execution_count": 9,
   "id": "70d5d758",
   "metadata": {},
   "outputs": [
    {
     "name": "stdout",
     "output_type": "stream",
     "text": [
      "Is palindrome? False\n"
     ]
    }
   ],
   "source": [
    "# Example usage\n",
    "s = Solution()\n",
    "\n",
    "# Test input\n",
    "input_string = \"tab a cat\" \n",
    "print(\"Is palindrome?\", s.isPalindrome(input_string))"
   ]
  },
  {
   "cell_type": "markdown",
   "id": "77b49d13",
   "metadata": {},
   "source": [
    "# Main Function: isPalindrome\n",
    "\n",
    "* Initialize two pointers:  \n",
    "l, r = 0, len(s) - 1  \n",
    "l starts from the left end of the string.  \n",
    "r starts from the right end.  \n",
    "\n",
    "* Loop while l is less than r:  \n",
    "while l < r:  \n",
    "Keep comparing characters until both pointers meet.  \n",
    "\n",
    "* Skip non-alphanumeric characters from the left:\n",
    "while l < r and not self.alphaNum(s[l]):  \n",
    "    l += 1  \n",
    "If s[l] is not a letter or digit, move l to the right.\n",
    "\n",
    "* Skip non-alphanumeric characters from the right:  \n",
    "while r > l and not self.alphaNum(s[r]):  \n",
    "    r -= 1  \n",
    "If s[r] is not a letter or digit, move r to the left.  \n",
    "\n",
    "* Compare cleaned characters:\n",
    "if s[l].lower() != s[r].lower():  \n",
    "    return False  \n",
    "Convert both characters to lowercase and check if they match.  \n",
    "If not equal → not a palindrome → return False.  \n",
    "\n",
    "* Move pointers inward:  \n",
    "l, r = l + 1, r - 1  \n",
    "If characters match, check the next pair by moving inward.  \n",
    "\n",
    "* If loop ends without False:  \n",
    "return True  \n",
    "All matched → it's a palindrome → return True.  \n",
    "\n",
    "# Helper Function: alphaNum  \n",
    "\n",
    "* Define a function to check if a character is alphanumeric:  \n",
    "def alphaNum(self, c):  \n",
    "Takes a single character c.  \n",
    "\n",
    "* Return True if it's a letter or digit:    \n",
    "return (ord(\"A\") <= ord(c) <= ord(\"Z\") or    \n",
    "        ord(\"a\") <= ord(c) <= ord(\"z\") or  \n",
    "        ord(\"0\") <= ord(c) <= ord(\"9\"))\n",
    "\n",
    "* Checks using ASCII value (ord()) if:  \n",
    "it's uppercase (A–Z)  \n",
    "lowercase (a–z)  \n",
    "digit (0–9)  "
   ]
  },
  {
   "cell_type": "markdown",
   "id": "89b6f3fd",
   "metadata": {},
   "source": [
    "## Two Integer Sum II"
   ]
  },
  {
   "cell_type": "markdown",
   "id": "bf89b472",
   "metadata": {},
   "source": [
    "Given an array of integers numbers that is sorted in non-decreasing order.  \n",
    "\n",
    "Return the indices (1-indexed) of two numbers, [index1, index2], such that they add up to a given target number target and index1 < index2. Note that index1 and index2 cannot be equal, therefore you may not use the same element twice.  \n",
    "\n",
    "There will always be exactly one valid solution.  \n",
    "\n",
    "Your solution must use O(1) additional space.  \n",
    "\n",
    "Example 1:  \n",
    "Input: numbers = [1,2,3,4], target = 3  \n",
    "Output: [1,2]  \n",
    "\n",
    "Explanation:  \n",
    "The sum of 1 and 2 is 3. Since we are assuming a 1-indexed array, index1 = 1, index2 = 2. We return [1, 2].  "
   ]
  },
  {
   "cell_type": "code",
   "execution_count": 1,
   "id": "e6169c31",
   "metadata": {},
   "outputs": [],
   "source": [
    "class Solution:\n",
    "    def TwoSumII(self, num: list[int], target: int) -> list[int]:\n",
    "        l = 0\n",
    "        r = len(num) - 1\n",
    "\n",
    "        while l < r:\n",
    "            cursum = num[l] + num[r]\n",
    "\n",
    "            if cursum > target:\n",
    "                r -= 1\n",
    "            elif cursum < target:\n",
    "                l += 1\n",
    "            else:\n",
    "                return [l + 1, r + 1]\n",
    "            \n",
    "        return []"
   ]
  },
  {
   "cell_type": "code",
   "execution_count": 2,
   "id": "7374e66e",
   "metadata": {},
   "outputs": [],
   "source": [
    "s = Solution()\n",
    "num = [1, 4, 6, 8, 10]\n",
    "target = 12"
   ]
  },
  {
   "cell_type": "code",
   "execution_count": 3,
   "id": "c3d96758",
   "metadata": {},
   "outputs": [
    {
     "name": "stdout",
     "output_type": "stream",
     "text": [
      "[2, 4]\n"
     ]
    }
   ],
   "source": [
    "result = s.TwoSumII(num, target)\n",
    "print(result)\n"
   ]
  },
  {
   "cell_type": "markdown",
   "id": "8c3ed6ea",
   "metadata": {},
   "source": [
    "## Explanation of the code\n",
    "\n",
    "* class Solution:  \n",
    "Defines a class named Solution.  \n",
    "\n",
    "* def TwoSumII(self, num: list[int], target: int) -> list[int]:  \n",
    "Defines a function TwoSumII that takes:  \n",
    "a sorted list of integers num   \n",
    "an integer target  \n",
    "and returns a list of two indices (1-based) whose values add up to target.  \n",
    "\n",
    "* l = 0  \n",
    "l is the left pointer (starts at beginning). \n",
    "\n",
    "* r = len(num) - 1   \n",
    "r is the right pointer (starts at end).  \n",
    "\n",
    "\n",
    "* while l < r:  \n",
    "Loop continues while left pointer is before the right pointer.  \n",
    "\n",
    "\n",
    "* cursum = num[l] + num[r]  \n",
    "cursum stores the sum of values at l and r.  \n",
    "\n",
    "\n",
    "* if cursum > target:  \n",
    "    r -= 1  \n",
    "If the sum is too big, move r left to try smaller numbers.  \n",
    "\n",
    "\n",
    "* elif cursum < target:  \n",
    "    l += 1  \n",
    "If the sum is too small, move l right to try bigger numbers.  \n",
    "\n",
    "\n",
    "* else:  \n",
    "    return [l + 1, r + 1]  \n",
    "If the sum is just right, return the 1-based indices of the two numbers.  \n",
    "\n",
    "\n",
    "* return []  \n",
    "If no such pair is found (shouldn’t happen as per problem), return an empty list.  \n",
    "\n"
   ]
  },
  {
   "cell_type": "markdown",
   "id": "791a1a32",
   "metadata": {},
   "source": [
    "## 3Sum"
   ]
  },
  {
   "cell_type": "markdown",
   "id": "dd9a8a31",
   "metadata": {},
   "source": [
    "Given an integer array nums, return all the triplets [nums[i], nums[j], nums[k]] where nums[i] + nums[j] + nums[k] == 0, and the indices i, j and k are all distinct.  \n",
    "The output should not contain any duplicate triplets. You may return the output and the triplets in any order.  \n",
    "\n",
    "Example 1:  \n",
    "Input: nums = [-1,0,1,2,-1,-4]  \n",
    "Output: [[-1,-1,2],[-1,0,1]]  \n",
    "Explanation:  \n",
    "nums[0] + nums[1] + nums[2] = (-1) + 0 + 1 = 0.  \n",
    "nums[1] + nums[2] + nums[4] = 0 + 1 + (-1) = 0.  \n",
    "nums[0] + nums[3] + nums[4] = (-1) + 2 + (-1) = 0.  \n",
    "The distinct triplets are [-1,0,1] and [-1,-1,2].  \n",
    "\n",
    "Example 2:  \n",
    "Input: nums = [0,1,1]  \n",
    "Output: []  \n",
    "Explanation: The only possible triplet does not sum up to 0.  \n",
    "\n",
    "Example 3:  \n",
    "Input: nums = [0,0,0]  \n",
    "Output: [[0,0,0]]  \n",
    "Explanation: The only possible triplet sums up to 0.  "
   ]
  },
  {
   "cell_type": "code",
   "execution_count": 4,
   "id": "4527b0c1",
   "metadata": {},
   "outputs": [],
   "source": [
    "class Solution:\n",
    "    def ThreeSum(self, num: list[int]) -> list[list[int]]:\n",
    "        res = []\n",
    "        num.sort()\n",
    "\n",
    "        for i, a in enumerate(num):\n",
    "            if i > 0 and a == num[i-1]:\n",
    "                continue\n",
    "\n",
    "            l, r = i + 1, len(num) - 1\n",
    "\n",
    "            while l < r:\n",
    "                threeSum = a + num[l] +  num[r]\n",
    "                if threeSum > 0:\n",
    "                    r -= 1\n",
    "                elif threeSum < 0 :\n",
    "                    l += 1\n",
    "                else:\n",
    "                    res.append([a, num[l], num[r]])\n",
    "                    l += 1\n",
    "                    while num[l] == num[l-1] and l < r:\n",
    "                        l += 1\n",
    "        \n",
    "        return res\n",
    "\n"
   ]
  },
  {
   "cell_type": "code",
   "execution_count": 5,
   "id": "dc79c66e",
   "metadata": {},
   "outputs": [],
   "source": [
    "s = Solution()\n",
    "num = [0,1,1]  "
   ]
  },
  {
   "cell_type": "code",
   "execution_count": 6,
   "id": "b6469b87",
   "metadata": {},
   "outputs": [
    {
     "name": "stdout",
     "output_type": "stream",
     "text": [
      "[]\n"
     ]
    }
   ],
   "source": [
    "result = s.ThreeSum(num)\n",
    "print(result)"
   ]
  },
  {
   "cell_type": "markdown",
   "id": "2b63d652",
   "metadata": {},
   "source": [
    "* class Solution:  \n",
    "    def ThreeSum(self, num: list[int]) -> list[list[int]]:  \n",
    "Defines a class Solution and a method ThreeSum that takes a list of integers num and returns a list of triplet lists.  \n",
    "\n",
    "* res = []  \n",
    "Initializes an empty list res to store the valid triplets.  \n",
    "\n",
    "* num.sort()\n",
    "Sorts the input list to make it easier to avoid duplicates and use the two-pointer technique.  \n",
    "\n",
    "* for i, a in enumerate(num):  \n",
    "Loops through each number in the list with its index. a is the current number we're fixing for the triplet.    \n",
    "\n",
    "* if i > 0 and a == num[i-1]:  \n",
    "    continue  \n",
    "Skip duplicates for the fixed number a. If it's the same as the previous number, we move to the next.  \n",
    "\n",
    "* l, r = i + 1, len(num) - 1  \n",
    "Sets two pointers: l (left) just after i, and r (right) at the end of the list.  \n",
    "\n",
    "* while l < r:  \n",
    "While the two pointers don’t cross, keep checking for a triplet.  \n",
    "\n",
    "* threeSum = a + num[l] + num[r]  \n",
    "Calculates the sum of the current triplet.  \n",
    "\n",
    "* if threeSum > 0:  \n",
    "    r -= 1  \n",
    "If the sum is too big, move the right pointer left to try smaller numbers.  \n",
    "\n",
    "* elif threeSum < 0 :  \n",
    "    l += 1  \n",
    "If the sum is too small, move the left pointer right to try bigger numbers.  \n",
    "\n",
    "* else:  \n",
    "    res.append([a, num[l], num[r]])  \n",
    "If the sum is exactly zero, we found a valid triplet; add it to res.  \n",
    "\n",
    "* l += 1  \n",
    "Move the left pointer forward to continue looking for new triplets.  \n",
    "\n",
    "* while num[l] == num[l-1]:\n",
    "    l += 1\n",
    "Skip over duplicate values at the left pointer to avoid repeated triplets.  \n",
    "\n",
    "* return res  \n",
    "Return the final list of all unique triplets.   \n",
    "\n"
   ]
  },
  {
   "cell_type": "markdown",
   "id": "af4b55e2",
   "metadata": {},
   "source": [
    "## Container with most water"
   ]
  },
  {
   "cell_type": "markdown",
   "id": "d23a9b0f",
   "metadata": {},
   "source": [
    "You are given an integer array heights where heights[i] represents the height of the i th bar.  \n",
    "You may choose any two bars to form a container. Return the maximum amount of water a container can store.  \n",
    "\n",
    "Example 1:  \n",
    "Input: height = [1,7,2,5,4,7,3,6]  \n",
    "Output: 36  \n",
    "\n",
    "Example 2:  \n",
    "Input: height = [2,2,2]  \n",
    "Output: 4  "
   ]
  },
  {
   "cell_type": "code",
   "execution_count": 7,
   "id": "79a6a60a",
   "metadata": {},
   "outputs": [],
   "source": [
    "class Solution:\n",
    "    def MaxArea(self, h: list[int]) -> int:\n",
    "        l = 0\n",
    "        r = len(h) - 1\n",
    "        res = 0 \n",
    "\n",
    "        while l < r:\n",
    "            area = (r-l) * min(h[l], h[r])\n",
    "            res = max(res, area)\n",
    "            if h[l] <= h[r]:\n",
    "                l += 1\n",
    "            else:\n",
    "                r -= 1\n",
    "\n",
    "        return res "
   ]
  },
  {
   "cell_type": "code",
   "execution_count": 8,
   "id": "d892524d",
   "metadata": {},
   "outputs": [],
   "source": [
    "s = Solution()\n",
    "h = [1,7,2,5,4,7,3,6] \n"
   ]
  },
  {
   "cell_type": "code",
   "execution_count": 9,
   "id": "d3321ce1",
   "metadata": {},
   "outputs": [
    {
     "name": "stdout",
     "output_type": "stream",
     "text": [
      "36\n"
     ]
    }
   ],
   "source": [
    "result = s.MaxArea(h)\n",
    "print(result)"
   ]
  },
  {
   "cell_type": "markdown",
   "id": "71deebf4",
   "metadata": {},
   "source": [
    "* class Solution:  \n",
    "Defines a class named Solution. It's just a container for the method.  \n",
    "\n",
    "* def MaxArea(self, h: list[int]) -> int:  \n",
    "Defines a function MaxArea that takes a list of integers h (heights of vertical lines).  \n",
    "Returns an integer (the maximum area of water that can be trapped between two lines).  \n",
    "\n",
    "* l = 0  \n",
    "l (left pointer) starts at the beginning of the list.  \n",
    "\n",
    "* r = len(h) - 1  \n",
    "r (right pointer) starts at the end of the list.  \n",
    "\n",
    "* res = 0  \n",
    "res stores the maximum area found so far, starting at 0.  \n",
    "\n",
    "* while l < r:  \n",
    "Keep checking while the left pointer is to the left of the right pointer.  \n",
    "\n",
    "* area = (r-l) * min(h[l], h[r])  \n",
    "Calculate the area between the two lines at positions l and r.  \n",
    "(r - l) is the width of the container.  \n",
    "min(h[l], h[r]) is the height — since water can only go up to the shorter line.  \n",
    "\n",
    "* res = max(res, area)  \n",
    "Update res to store the larger of the current res and the newly calculated area.  \n",
    "\n",
    "* if h[l] <= h[r]:  \n",
    "    l += 1  \n",
    "* else:  \n",
    "    r -= 1  \n",
    "Move the pointer that points to the shorter line:  \n",
    "If the left height is smaller or equal, move l to the right.  \n",
    "Otherwise, move r to the left.  \n",
    "This is done to try and find a taller line that may give a bigger area.  \n",
    "\n",
    "* return res  \n",
    "Finally, return the maximum area found.  "
   ]
  },
  {
   "cell_type": "markdown",
   "id": "7198c2f3",
   "metadata": {},
   "source": [
    "## Trapping Rain Water"
   ]
  },
  {
   "cell_type": "markdown",
   "id": "d64313b1",
   "metadata": {},
   "source": [
    "You are given an array of non-negative integers height which represent an elevation map. Each value height[i] represents the height of a bar, which has a width of 1.  \n",
    "Return the maximum area of water that can be trapped between the bars.  \n",
    "\n",
    "Example 1:  \n",
    "Input: height = [0,2,0,3,1,0,1,3,2,1]  \n",
    "Output: 9  "
   ]
  },
  {
   "cell_type": "code",
   "execution_count": 17,
   "id": "89d38aa2",
   "metadata": {},
   "outputs": [],
   "source": [
    "class Solution:\n",
    "    def TrapWater(self, h: list[int]) -> int:\n",
    "\n",
    "        if not h:\n",
    "            return 0\n",
    "        \n",
    "        l,r = 0, len(h) - 1\n",
    "        leftmax, rightmax = h[l], h[r]\n",
    "        res = 0 \n",
    "\n",
    "        while l < r:\n",
    "            if leftmax < rightmax:\n",
    "                l += 1\n",
    "                leftmax = max(leftmax,h[l])\n",
    "                res += leftmax - h[l]\n",
    "            else:\n",
    "                r -= 1\n",
    "                rightmax = max(rightmax, h[r])\n",
    "                res += rightmax - h[r]\n",
    "\n",
    "        return res\n",
    "    \n",
    "\n",
    "\n"
   ]
  },
  {
   "cell_type": "code",
   "execution_count": 18,
   "id": "0f298f95",
   "metadata": {},
   "outputs": [],
   "source": [
    "s = Solution()\n",
    "h = [0,2,0,3,1,0,1,3,2,1]  "
   ]
  },
  {
   "cell_type": "code",
   "execution_count": 19,
   "id": "811ddc1f",
   "metadata": {},
   "outputs": [
    {
     "name": "stdout",
     "output_type": "stream",
     "text": [
      "9\n"
     ]
    }
   ],
   "source": [
    "result = s.TrapWater(h)\n",
    "print(result)"
   ]
  },
  {
   "cell_type": "markdown",
   "id": "4281cd6a",
   "metadata": {},
   "source": [
    "## Explanation of the code line by line\n",
    "\n",
    "* class Solution:  \n",
    "    def TrapWater(self, h: list[int]) -> int:  \n",
    "Defines a class Solution with a method TrapWater that takes a list of integers h (heights of bars).  \n",
    "The goal is to calculate how much rainwater is trapped between the bars.  \n",
    "\n",
    "* if not h:  \n",
    "    return 0  \n",
    "If the input list is empty, return 0 — no water can be trapped.  \n",
    "\n",
    "* l, r = 0, len(h) - 1  \n",
    "Initialize two pointers:  \n",
    "l starts from the left end,  \n",
    "r starts from the right end.  \n",
    "\n",
    "* leftmax, rightmax = h[l], h[r]  \n",
    "Keep track of the maximum height seen so far from the left (leftmax) and from the right (rightmax).  \n",
    "\n",
    "* res = 0  \n",
    "This will store the total amount of trapped water.  \n",
    "\n",
    "* while l < r:  \n",
    "Loop until the two pointers meet.  \n",
    "\n",
    "* if leftmax < rightmax:  \n",
    "If the left max is smaller, we process the left side:  \n",
    "Why? Because the water trapped depends on the shorter boundary.  \n",
    "\n",
    "* l += 1  \n",
    "Move the left pointer one step to the right.  \n",
    "\n",
    "* leftmax = max(leftmax, h[l])  \n",
    "Update the new leftmax to be the maximum so far on the left side.  \n",
    "\n",
    "* res += leftmax - h[l]  \n",
    "Water trapped at this index is leftmax - height at l.  \n",
    "Add this to the total if positive (if current bar is lower than the max).  \n",
    "\n",
    "* else:  \n",
    "If rightmax is smaller or equal, process the right side.  \n",
    "\n",
    "* r -= 1  \n",
    "Move the right pointer one step to the left.  \n",
    "\n",
    "* rightmax = max(rightmax, h[r])  \n",
    "Update the new rightmax.  \n",
    "\n",
    "* res += rightmax - h[r]  \n",
    "Water trapped on this side is rightmax - height at r.  \n",
    "Add this to the total.  \n",
    "\n",
    "* return res  \n",
    "Return the total water trapped.  \n",
    "\n"
   ]
  }
 ],
 "metadata": {
  "kernelspec": {
   "display_name": "Python 3",
   "language": "python",
   "name": "python3"
  },
  "language_info": {
   "codemirror_mode": {
    "name": "ipython",
    "version": 3
   },
   "file_extension": ".py",
   "mimetype": "text/x-python",
   "name": "python",
   "nbconvert_exporter": "python",
   "pygments_lexer": "ipython3",
   "version": "3.13.3"
  }
 },
 "nbformat": 4,
 "nbformat_minor": 5
}
