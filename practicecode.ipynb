{
 "cells": [
  {
   "cell_type": "markdown",
   "id": "8436cb56",
   "metadata": {},
   "source": [
    "# Arrays"
   ]
  },
  {
   "cell_type": "code",
   "execution_count": 78,
   "id": "d9c7b451",
   "metadata": {},
   "outputs": [],
   "source": [
    "# Contains Duplicate\n",
    "\n",
    "class Solutions():\n",
    "    def CD(self, num: list[int]) -> bool:\n",
    "        hashset = set()\n",
    "        for n in num:\n",
    "            if n in hashset:\n",
    "                return True\n",
    "            hashset.add(n)\n",
    "        return False"
   ]
  },
  {
   "cell_type": "code",
   "execution_count": 79,
   "id": "bda45dd0",
   "metadata": {},
   "outputs": [
    {
     "name": "stdout",
     "output_type": "stream",
     "text": [
      "True\n"
     ]
    }
   ],
   "source": [
    "s = Solutions()\n",
    "num = [1,2,3,4,3]\n",
    "result = s.CD(num)\n",
    "print(result)"
   ]
  },
  {
   "cell_type": "code",
   "execution_count": 80,
   "id": "1a843565",
   "metadata": {},
   "outputs": [],
   "source": [
    "# Anagram\n",
    "\n",
    "class Solution:\n",
    "    def anagram(self, s: str, t:str) -> bool:\n",
    "\n",
    "        if len(s) != len(t):\n",
    "            return False\n",
    "        \n",
    "        countS = {}\n",
    "        countT = {}\n",
    "\n",
    "        for i in range(len(s)):\n",
    "            countS[s[i]] = 1 + countS.get(s[i], 0)\n",
    "            countT[t[i]] = 1 + countT.get(t[i], 0)\n",
    "\n",
    "        return countS == countT"
   ]
  },
  {
   "cell_type": "code",
   "execution_count": 81,
   "id": "dcea69ed",
   "metadata": {},
   "outputs": [
    {
     "name": "stdout",
     "output_type": "stream",
     "text": [
      "True\n"
     ]
    }
   ],
   "source": [
    "s = Solution()\n",
    "result = s.anagram(\"ZAM\", \"MAZ\")\n",
    "print(result)"
   ]
  },
  {
   "cell_type": "code",
   "execution_count": 82,
   "id": "8c52c6cf",
   "metadata": {},
   "outputs": [],
   "source": [
    "class Solution:\n",
    "    def Twosum(self, num: list[int], target: int) -> list[int]:\n",
    "\n",
    "        Map = {}\n",
    "\n",
    "        for i,n in enumerate(num):\n",
    "            diff = target - n\n",
    "            if diff in Map:\n",
    "                return [Map[diff], i]\n",
    "            Map[n] = i"
   ]
  },
  {
   "cell_type": "code",
   "execution_count": 83,
   "id": "ff89a202",
   "metadata": {},
   "outputs": [
    {
     "name": "stdout",
     "output_type": "stream",
     "text": [
      "[0, 1]\n"
     ]
    }
   ],
   "source": [
    "num = [1,2,3,4,5]\n",
    "target = 3\n",
    "s = Solution()\n",
    "result = s.Twosum(num, target)\n",
    "print(result)"
   ]
  },
  {
   "cell_type": "code",
   "execution_count": null,
   "id": "e1b44a96",
   "metadata": {},
   "outputs": [],
   "source": [
    "# Group Anagrams\n",
    "\n",
    "from collections import defaultdict\n",
    "\n",
    "class Solution():\n",
    "    def GrpAna(self, strs: list[str]) -> list[list[str]]:\n",
    "        res = defaultdict(list)\n",
    "\n",
    "        for s in strs:\n",
    "            count = [0] * 26\n",
    "\n",
    "            for c in s:\n",
    "                count[ord(c) - ord(\"a\")] =+ 1\n",
    "            res[tuple(count)].append(s)\n",
    "        \n",
    "        return list(res.values())"
   ]
  },
  {
   "cell_type": "code",
   "execution_count": 120,
   "id": "5cb9f529",
   "metadata": {},
   "outputs": [
    {
     "name": "stdout",
     "output_type": "stream",
     "text": [
      "[['act', 'cat'], ['pots', 'tops', 'stop'], ['hat']]\n"
     ]
    }
   ],
   "source": [
    "input_strs = [\"act\",\"pots\",\"tops\",\"cat\",\"stop\",\"hat\"]\n",
    "s = Solution()\n",
    "result = s.GrpAna(input_strs)\n",
    "print(result)"
   ]
  },
  {
   "cell_type": "code",
   "execution_count": null,
   "id": "c3987e05",
   "metadata": {},
   "outputs": [],
   "source": [
    "# Top K Elements\n",
    "\n",
    "class Solutions():\n",
    "    def TopK(self, nums:list[int], k: int) -> list[int]:\n",
    "        count = {}\n",
    "        freq = [[] for i in range(len(nums) + 1)]\n",
    "\n",
    "        for num in nums:\n",
    "            count[num] = 1 + count.get(num,0)\n",
    "        for num,cnt in count.items():\n",
    "            freq[cnt].append(num)\n",
    "        \n",
    "        res =[]\n",
    "        \n",
    "        for i in range(len(freq) -1, 0, -1):\n",
    "\n",
    "            for num in freq[i]:\n",
    "                res.append(num)\n",
    "                if len(res) == k:\n",
    "                    return res\n",
    "\n"
   ]
  },
  {
   "cell_type": "code",
   "execution_count": 44,
   "id": "1b475dc6",
   "metadata": {},
   "outputs": [
    {
     "name": "stdout",
     "output_type": "stream",
     "text": [
      "[1, 2]\n"
     ]
    }
   ],
   "source": [
    "nums = [1,1,1,2,2,3]\n",
    "k = 2\n",
    "s = Solutions()\n",
    "result = s.TopK(nums, k)\n",
    "print(result)"
   ]
  },
  {
   "cell_type": "code",
   "execution_count": 42,
   "id": "cacde19f",
   "metadata": {},
   "outputs": [],
   "source": [
    "# Encode Decode\n",
    "\n",
    "class Solutions:\n",
    "\n",
    "    def Encode(self, strs:list[str]) -> str:\n",
    "\n",
    "        res = \"\"\n",
    "\n",
    "        for s in strs:\n",
    "            res += str(len(s)) + \"#\" + s\n",
    "        return res\n",
    "    \n",
    "    def Decode(self, s:str) -> list[str]:\n",
    "        res = []\n",
    "        i = 0\n",
    "        while i < len(s):\n",
    "            j = i\n",
    "            while s[j] != \"#\":\n",
    "                j+=1\n",
    "            length = int(s[i:j])\n",
    "            i = j + 1\n",
    "            j = i + length\n",
    "            res.append(s[i:j])\n",
    "            i = j\n",
    "        return res\n",
    "\n",
    " "
   ]
  },
  {
   "cell_type": "code",
   "execution_count": 43,
   "id": "9aa57b92",
   "metadata": {},
   "outputs": [
    {
     "name": "stdout",
     "output_type": "stream",
     "text": [
      "Encoded: 4#neet4#code\n",
      "Decoded: ['neet', 'code']\n"
     ]
    }
   ],
   "source": [
    "\n",
    "s = Solutions()\n",
    "input_list = [\"neet\", \"code\"]\n",
    "\n",
    "encoded_list = s.Encode(input_list)\n",
    "print(\"Encoded:\", encoded_list )\n",
    "\n",
    "decoded_list = s.Decode(encoded_list)\n",
    "print(\"Decoded:\", decoded_list)\n"
   ]
  },
  {
   "cell_type": "code",
   "execution_count": 10,
   "id": "99cf89bb",
   "metadata": {},
   "outputs": [],
   "source": [
    "# Product array except itself\n",
    "\n",
    "class Solutions():\n",
    "    def PArray(self, num:list[int]) -> list[int]:\n",
    "\n",
    "        res = [1] * len(num)\n",
    "\n",
    "        prefix = 1\n",
    "        for i in range(len(num)):\n",
    "            res[i] = prefix\n",
    "            prefix *= num[i]\n",
    "\n",
    "        postfix =  1 \n",
    "        for i in range(len(num)-1, -1, -1):\n",
    "            res[i] = postfix\n",
    "            postfix *= num[i]\n",
    "        return res\n"
   ]
  },
  {
   "cell_type": "code",
   "execution_count": 11,
   "id": "f931bdb6",
   "metadata": {},
   "outputs": [
    {
     "name": "stdout",
     "output_type": "stream",
     "text": [
      "[0, 6, 6, 3, 1]\n"
     ]
    }
   ],
   "source": [
    "num = [-1,0,1,2,3]\n",
    "s = Solutions()\n",
    "result = s.PArray(num)\n",
    "print(result)"
   ]
  },
  {
   "cell_type": "code",
   "execution_count": null,
   "id": "d290c8c2",
   "metadata": {},
   "outputs": [],
   "source": [
    "# Valid Sudoku\n",
    "\n",
    "from collections import defaultdict\n",
    "\n",
    "class Solutions:\n",
    "    def Sudoku(self, board:list[list[str]]) -> bool:\n",
    "\n",
    "        row = defaultdict(set)\n",
    "        col = defaultdict(set)\n",
    "        box = defaultdict(set)\n",
    "\n",
    "        for r in range(9):\n",
    "            for c in range (9):\n",
    "                if board[r][c] == \".\":\n",
    "                    continue\n",
    "                if (board[r][c] in row[r]\n",
    "                    or board[r][c] in col[c]\n",
    "                    or board[r][c] in box[(r//3,c//3)]):\n",
    "                    return False\n",
    "                col[c].add(board[r][c])\n",
    "                row[r].add(board[r][c])\n",
    "                box[(r//3,c//3)].add(board[r][c])\n",
    "        return True"
   ]
  },
  {
   "cell_type": "code",
   "execution_count": 25,
   "id": "fb76306a",
   "metadata": {},
   "outputs": [],
   "source": [
    "board =   [\n",
    "    [\"1\",\"2\",\".\",\".\",\"3\",\".\",\".\",\".\",\".\"],  \n",
    "    [\"4\",\".\",\".\",\"5\",\".\",\".\",\".\",\".\",\".\"],  \n",
    "    [\".\",\"9\",\"1\",\".\",\".\",\".\",\".\",\".\",\"3\"],  \n",
    "    [\"5\",\".\",\".\",\".\",\"6\",\".\",\".\",\".\",\"4\"],  \n",
    "    [\".\",\".\",\".\",\"8\",\".\",\"3\",\".\",\".\",\"5\"],  \n",
    "    [\"7\",\".\",\".\",\".\",\"2\",\".\",\".\",\".\",\"6\"],  \n",
    "    [\".\",\".\",\".\",\".\",\".\",\".\",\"2\",\".\",\".\"],  \n",
    "    [\".\",\".\",\".\",\"4\",\"1\",\"9\",\".\",\".\",\"8\"],  \n",
    "    [\".\",\".\",\".\",\".\",\"8\",\".\",\".\",\"7\",\"9\"],\n",
    " ]  "
   ]
  },
  {
   "cell_type": "code",
   "execution_count": 26,
   "id": "fe299141",
   "metadata": {},
   "outputs": [
    {
     "name": "stdout",
     "output_type": "stream",
     "text": [
      "False\n"
     ]
    }
   ],
   "source": [
    "s = Solutions()\n",
    "print(s.Sudoku(board))"
   ]
  },
  {
   "cell_type": "code",
   "execution_count": null,
   "id": "cd010c26",
   "metadata": {},
   "outputs": [],
   "source": []
  }
 ],
 "metadata": {
  "kernelspec": {
   "display_name": "Python 3",
   "language": "python",
   "name": "python3"
  },
  "language_info": {
   "codemirror_mode": {
    "name": "ipython",
    "version": 3
   },
   "file_extension": ".py",
   "mimetype": "text/x-python",
   "name": "python",
   "nbconvert_exporter": "python",
   "pygments_lexer": "ipython3",
   "version": "3.13.3"
  }
 },
 "nbformat": 4,
 "nbformat_minor": 5
}
